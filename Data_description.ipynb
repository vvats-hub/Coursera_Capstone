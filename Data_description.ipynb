{
 "cells": [
  {
   "cell_type": "markdown",
   "metadata": {},
   "source": [
    "# Exploring Toronto, Canada: The battle of neighborhoods!"
   ]
  },
  {
   "cell_type": "markdown",
   "metadata": {},
   "source": [
    "## Data <a name=\"data\"></a>"
   ]
  },
  {
   "cell_type": "markdown",
   "metadata": {},
   "source": [
    "Based on the problem definition, following factors will contribute in deciding which neighborhood is popular:\n",
    "* number of museums and attractions in the neighborhood.\n",
    "* number of café, shops and restaurants in the neighborhood.\n",
    "* whether the neighborhood is close to the city center.\n",
    "\n",
    "\n",
    "Following data sources will be needed to extract the required information:\n",
    "\n",
    "* **Wikipedia**, https://en.wikipedia.org/wiki/List_of_postal_codes_of_Canada:_M, to obtain the information related to the neighbourhoods in Toronto.\n",
    "\n",
    "* **Foursquare API** to obtain the location/venue data (i.e. number of museums, attractions, café, restaurants, etc.)\n",
    "* **BeautifulSoup** to parse the area information from a HTML table.\n",
    "* **Geocoder** to obtain the area coordinates.\n",
    "* **Folium** to visualize the maps."
   ]
  }
 ],
 "metadata": {
  "kernelspec": {
   "display_name": "Python 3",
   "language": "python",
   "name": "python3"
  },
  "language_info": {
   "codemirror_mode": {
    "name": "ipython",
    "version": 3
   },
   "file_extension": ".py",
   "mimetype": "text/x-python",
   "name": "python",
   "nbconvert_exporter": "python",
   "pygments_lexer": "ipython3",
   "version": "3.8.5"
  }
 },
 "nbformat": 4,
 "nbformat_minor": 4
}
